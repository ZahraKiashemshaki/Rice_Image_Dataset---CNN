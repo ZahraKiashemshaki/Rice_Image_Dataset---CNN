{
 "cells": [
  {
   "cell_type": "code",
   "execution_count": 63,
   "id": "53576818-11a5-4846-8d18-57eefce97df9",
   "metadata": {},
   "outputs": [],
   "source": [
    "import pandas as pd  \n",
    "import numpy as np \n",
    "from sklearn.model_selection import train_test_split\n",
    "from sklearn.preprocessing import StandardScaler, MinMaxScaler, LabelEncoder\n",
    "from sklearn.impute import SimpleImputer  # For handling missing values\n",
    "import os  # For file handling\n",
    "import scipy.stats as stats\n",
    "import cv2  # For image processing\n",
    "from PIL import Image  # Alternative to OpenCV for image handling\n",
    "import matplotlib.pyplot as plt  # For plotting images and data distributions\n",
    "import seaborn as sns  \n",
    "import tensorflow as tf\n",
    "from tensorflow.keras.preprocessing.image import ImageDataGenerator  # For image augmentation\n",
    "from tensorflow.keras.models import Sequential\n",
    "from tensorflow.keras.layers import Conv2D, MaxPooling2D, Flatten, Dense, Dropout"
   ]
  },
  {
   "cell_type": "code",
   "execution_count": 65,
   "id": "1d69d808-dae7-455a-974c-1b1fb70cb13b",
   "metadata": {},
   "outputs": [],
   "source": [
    "df_rice='All_Images'"
   ]
  },
  {
   "cell_type": "code",
   "execution_count": 67,
   "id": "0ca492e0-4db9-4bce-88c8-1dfaaa1a3f10",
   "metadata": {},
   "outputs": [
    {
     "name": "stdout",
     "output_type": "stream",
     "text": [
      "Classes: ['Karacadag', 'Ipsala', 'Arborio', 'Basmati', 'Jasmine']\n",
      "Class counts: {'Karacadag': 15000, 'Ipsala': 15000, 'Arborio': 15000, 'Basmati': 15000, 'Jasmine': 15000}\n"
     ]
    }
   ],
   "source": [
    "# List all subdirectories (classes) in the data directory\n",
    "classes = [cls for cls in os.listdir(df_rice) if os.path.isdir(os.path.join(df_rice, cls))]\n",
    "print(\"Classes:\", classes)\n",
    "\n",
    "# Count the number of images in each class\n",
    "class_counts = {}\n",
    "for cls in classes:\n",
    "    class_dir = os.path.join(df_rice, cls)\n",
    "    class_counts[cls] = len([img for img in os.listdir(class_dir) if not img.startswith('.')])  # Ignore hidden files\n",
    "\n",
    "print(\"Class counts:\", class_counts)"
   ]
  },
  {
   "cell_type": "code",
   "execution_count": 69,
   "id": "7d406511-5ff7-4bc1-8e5d-97e293d00334",
   "metadata": {},
   "outputs": [],
   "source": [
    "img_size = 227  # AlexNet input size\n",
    "batch_size = 32"
   ]
  },
  {
   "cell_type": "code",
   "execution_count": 71,
   "id": "82ab0ed1-c18d-48b5-ab31-6c962baf7ba2",
   "metadata": {},
   "outputs": [],
   "source": [
    "# Load dataset statistics\n",
    "image_paths = []\n",
    "labels = []\n",
    "for label in os.listdir(df_rice):\n",
    "    label_path = os.path.join(df_rice, label)\n",
    "    if os.path.isdir(label_path):\n",
    "        for img_file in os.listdir(label_path):\n",
    "            image_paths.append(os.path.join(label_path, img_file))\n",
    "            labels.append(label)"
   ]
  },
  {
   "cell_type": "code",
   "execution_count": 73,
   "id": "7fcc7a32-5f88-4f47-bce4-b19c736647d6",
   "metadata": {},
   "outputs": [
    {
     "name": "stdout",
     "output_type": "stream",
     "text": [
      "Dataset Statistics:\n",
      "label\n",
      "Karacadag    15000\n",
      "Ipsala       15000\n",
      "Arborio      15000\n",
      "Basmati      15000\n",
      "Jasmine      15000\n",
      "Name: count, dtype: int64\n"
     ]
    }
   ],
   "source": [
    "df_rice_new = pd.DataFrame({\"image_path\": image_paths, \"label\": labels})\n",
    "print(\"Dataset Statistics:\")\n",
    "print(df_rice_new['label'].value_counts())"
   ]
  },
  {
   "cell_type": "code",
   "execution_count": 75,
   "id": "19ae33ea-52af-4833-9def-8b81a3c97770",
   "metadata": {},
   "outputs": [
    {
     "name": "stdout",
     "output_type": "stream",
     "text": [
      "Missing Values:\n",
      "image_path    0\n",
      "label         0\n",
      "dtype: int64\n"
     ]
    }
   ],
   "source": [
    "# Check for missing data\n",
    "print(\"Missing Values:\")\n",
    "print(df_rice_new.isnull().sum())"
   ]
  },
  {
   "cell_type": "code",
   "execution_count": 77,
   "id": "58ccd9e4-09dc-46f5-906e-3c23c34902c4",
   "metadata": {},
   "outputs": [],
   "source": [
    "# Statistical Analysis using Z-score and T-test\n",
    "# Convert labels to numeric values\n",
    "label_counts = df_rice_new['label'].value_counts()\n",
    "mean_count = np.mean(label_counts)\n",
    "std_dev = np.std(label_counts)"
   ]
  },
  {
   "cell_type": "code",
   "execution_count": 79,
   "id": "9575aa23-bf50-4ab8-ab2d-3b0b69824793",
   "metadata": {},
   "outputs": [
    {
     "name": "stdout",
     "output_type": "stream",
     "text": [
      "label\n",
      "Karacadag    15000\n",
      "Ipsala       15000\n",
      "Arborio      15000\n",
      "Basmati      15000\n",
      "Jasmine      15000\n",
      "Name: count, dtype: int64\n"
     ]
    }
   ],
   "source": [
    "print(label_counts)"
   ]
  },
  {
   "cell_type": "code",
   "execution_count": 81,
   "id": "d118855c-bf73-436b-87cb-9805b30a8786",
   "metadata": {},
   "outputs": [
    {
     "name": "stdout",
     "output_type": "stream",
     "text": [
      "15000.0\n"
     ]
    }
   ],
   "source": [
    "print(mean_count)"
   ]
  },
  {
   "cell_type": "code",
   "execution_count": 83,
   "id": "f30196ef-6f67-4f0c-89df-1e7b412a663b",
   "metadata": {},
   "outputs": [
    {
     "name": "stdout",
     "output_type": "stream",
     "text": [
      "0.0\n"
     ]
    }
   ],
   "source": [
    "print(std_dev)"
   ]
  },
  {
   "cell_type": "code",
   "execution_count": 85,
   "id": "57251f4e-8b09-4d84-a58a-0f0acbdd7411",
   "metadata": {},
   "outputs": [
    {
     "name": "stdout",
     "output_type": "stream",
     "text": [
      "Z-scores for label distributions:\n",
      "label\n",
      "Karacadag   NaN\n",
      "Ipsala      NaN\n",
      "Arborio     NaN\n",
      "Basmati     NaN\n",
      "Jasmine     NaN\n",
      "Name: count, dtype: float64\n"
     ]
    }
   ],
   "source": [
    "# Compute Z-scores to identify outliers\n",
    "z_scores = (label_counts - mean_count) / std_dev\n",
    "print(\"Z-scores for label distributions:\")\n",
    "print(z_scores)"
   ]
  },
  {
   "cell_type": "code",
   "execution_count": 93,
   "id": "3eaef5dc-0579-4932-b36e-2373631c83a2",
   "metadata": {},
   "outputs": [
    {
     "data": {
      "image/png": "[encoded data removed]",
      "text/plain": [
       "<Figure size 640x480 with 1 Axes>"
      ]
     },
     "metadata": {},
     "output_type": "display_data"
    }
   ],
   "source": [
    "label_counts.plot(kind='bar', color='skyblue', edgecolor='black')\n",
    "plt.xlabel(\"Class Labels\")\n",
    "plt.ylabel(\"Number of Images\")\n",
    "plt.title(\"Class Distribution\")\n",
    "plt.show()"
   ]
  },
  {
   "cell_type": "code",
   "execution_count": null,
   "id": "1b76ade0-e2a1-4af5-afeb-7d5f3c2549aa",
   "metadata": {},
   "outputs": [],
   "source": []
  },
  {
   "cell_type": "code",
   "execution_count": 95,
   "id": "52ece212-4c99-4f25-8152-b56d964d1586",
   "metadata": {},
   "outputs": [
    {
     "name": "stdout",
     "output_type": "stream",
     "text": [
      "Chi-Square Statistic: 0.0, p-value: 1.0\n",
      "Dataset is evenly distributed (fail to reject null hypothesis).\n"
     ]
    }
   ],
   "source": [
    "from scipy.stats import chisquare\n",
    "\n",
    "chi_stat, p_value = chisquare(label_counts)\n",
    "print(f\"Chi-Square Statistic: {chi_stat}, p-value: {p_value}\")\n",
    "\n",
    "if p_value > 0.05:\n",
    "    print(\"Dataset is evenly distributed (fail to reject null hypothesis).\")\n",
    "else:\n",
    "    print(\"Dataset may have some imbalance (reject null hypothesis).\")\n"
   ]
  },
  {
   "cell_type": "code",
   "execution_count": null,
   "id": "f3f003b1-b8f1-4132-bf0e-608b65bc4ca3",
   "metadata": {},
   "outputs": [],
   "source": []
  }
 ],
 "metadata": {
  "kernelspec": {
   "display_name": "Python [conda env:base] *",
   "language": "python",
   "name": "conda-base-py"
  },
  "language_info": {
   "codemirror_mode": {
    "name": "ipython",
    "version": 3
   },
   "file_extension": ".py",
   "mimetype": "text/x-python",
   "name": "python",
   "nbconvert_exporter": "python",
   "pygments_lexer": "ipython3",
   "version": "3.12.7"
  }
 },
 "nbformat": 4,
 "nbformat_minor": 5
}
